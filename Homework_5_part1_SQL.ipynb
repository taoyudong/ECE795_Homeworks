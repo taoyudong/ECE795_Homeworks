{
  "nbformat": 4,
  "nbformat_minor": 0,
  "metadata": {
    "colab": {
      "name": "Homework_5_part1_SQL.ipynb",
      "provenance": [],
      "collapsed_sections": [],
      "toc_visible": true
    },
    "kernelspec": {
      "name": "python3",
      "display_name": "Python 3"
    }
  },
  "cells": [
    {
      "cell_type": "markdown",
      "metadata": {
        "id": "U85LdULCCOhC",
        "colab_type": "text"
      },
      "source": [
        "# ECE 795 - Big Data\n",
        "## Homework_5_part1 - Querying Google Cloud BigQuery using SQL\n"
      ]
    },
    {
      "cell_type": "markdown",
      "metadata": {
        "id": "rWLtFEp9IBPI",
        "colab_type": "text"
      },
      "source": [
        "### Before you begin\n",
        "\n",
        "\n",
        "1.   Create your own project using using the [Cloud Resource Manager](https://console.cloud.google.com/cloud-resource-manager) if you do not already have one.\n",
        "2.   [Enable billing](https://support.google.com/cloud/answer/6293499#enable-billing) for the project.\n",
        "3.   [Enable BigQuery](https://console.cloud.google.com/flows/enableapi?apiid=bigquery) APIs for the project. (should be already enabled)\n",
        "  "
      ]
    },
    {
      "cell_type": "markdown",
      "metadata": {
        "id": "MwBDhFPkDG9g",
        "colab_type": "text"
      },
      "source": [
        "### Provide your credentials to the runtime"
      ]
    },
    {
      "cell_type": "code",
      "metadata": {
        "id": "E7ekeAY0B-8N",
        "colab_type": "code",
        "colab": {}
      },
      "source": [
        "# Authenticate your student profile\n",
        "\n",
        "from google.colab import auth\n",
        "auth.authenticate_user()\n",
        "print('Authenticated')"
      ],
      "execution_count": 0,
      "outputs": []
    },
    {
      "cell_type": "markdown",
      "metadata": {
        "id": "9xnYbfpNcMry",
        "colab_type": "text"
      },
      "source": [
        "### Set the Project ID "
      ]
    },
    {
      "cell_type": "code",
      "metadata": {
        "id": "hxlTrWdvMR_6",
        "colab_type": "code",
        "colab": {}
      },
      "source": [
        "project_id = 'ECE795'"
      ],
      "execution_count": 0,
      "outputs": []
    },
    {
      "cell_type": "markdown",
      "metadata": {
        "id": "DmUc8EeVDjNR",
        "colab_type": "text"
      },
      "source": [
        "## Example Task\n"
      ]
    },
    {
      "cell_type": "markdown",
      "metadata": {
        "id": "Zbhn0kMuLsl4",
        "colab_type": "text"
      },
      "source": [
        "### We will use the GSOD sample table contains weather information collected by NOAA, such as precipitation amounts and wind speeds from late 1929 to early 2010."
      ]
    },
    {
      "cell_type": "markdown",
      "metadata": {
        "id": "xQMou5v9cc_l",
        "colab_type": "text"
      },
      "source": [
        "### You can access BigQuery table via Google-cloud-bigQuery API."
      ]
    },
    {
      "cell_type": "code",
      "metadata": {
        "id": "jeRtgpS0EJB4",
        "colab_type": "code",
        "colab": {}
      },
      "source": [
        "from google.cloud import bigquery\n",
        "\n",
        "client = bigquery.Client(project=project_id)\n",
        "\n",
        "row_count = client.query('''\n",
        "  SELECT \n",
        "    COUNT(*) as total\n",
        "  FROM `bigquery-public-data.samples.gsod`''').to_dataframe().total[0]\n",
        "\n",
        "\n",
        "print('Full dataset has %d rows' % row_count)"
      ],
      "execution_count": 0,
      "outputs": []
    },
    {
      "cell_type": "markdown",
      "metadata": {
        "id": "Crs_LQHVIf5-",
        "colab_type": "text"
      },
      "source": [
        "### Return total row count and first 2000 rows from the Table"
      ]
    },
    {
      "cell_type": "code",
      "metadata": {
        "id": "54sQhWTBOwXD",
        "colab_type": "code",
        "colab": {}
      },
      "source": [
        "# Using Google Cloud method\n",
        "\n",
        "from google.cloud import bigquery\n",
        "\n",
        "client = bigquery.Client(project=project_id)\n",
        "\n",
        "row_count = client.query('''\n",
        "  SELECT \n",
        "    COUNT(*) as total\n",
        "  FROM `bigquery-public-data.samples.gsod`''').to_dataframe().total[0]\n",
        "\n",
        "df_gc = client.query('''\n",
        "  SELECT\n",
        "    *\n",
        "  FROM\n",
        "    `bigquery-public-data.samples.gsod`\n",
        "  LIMIT 2000\n",
        "''' ).to_dataframe()\n",
        "\n",
        "# top 10 rows\n",
        "df_gc.head(10)\n"
      ],
      "execution_count": 0,
      "outputs": []
    },
    {
      "cell_type": "markdown",
      "metadata": {
        "id": "kCzDWMGcPG9Z",
        "colab_type": "text"
      },
      "source": [
        "### Describe the data in statistical method using GCloud *method*"
      ]
    },
    {
      "cell_type": "code",
      "metadata": {
        "id": "aLHe1rmxO4WC",
        "colab_type": "code",
        "colab": {}
      },
      "source": [
        "df_gc.describe()"
      ],
      "execution_count": 0,
      "outputs": []
    },
    {
      "cell_type": "markdown",
      "metadata": {
        "id": "OyFnqNU8Pshm",
        "colab_type": "text"
      },
      "source": [
        "### 10 highest total_precipitation samples\n"
      ]
    },
    {
      "cell_type": "code",
      "metadata": {
        "id": "IPxcqyLeIlox",
        "colab_type": "code",
        "colab": {}
      },
      "source": [
        "df_gc.sort_values('total_precipitation', ascending=False).head(10)[['station_number', 'year', 'month', 'day', 'total_precipitation']]"
      ],
      "execution_count": 0,
      "outputs": []
    },
    {
      "cell_type": "markdown",
      "metadata": {
        "id": "9nEhd1zmeLfh",
        "colab_type": "text"
      },
      "source": [
        "# Sample code for USA SSN data\n",
        "### This public dataset was created by the Social Security Administration and contains all names from Social Security card applications for births that occurred in the United States after 1879. "
      ]
    },
    {
      "cell_type": "code",
      "metadata": {
        "id": "9W03tmKeeQor",
        "colab_type": "code",
        "colab": {}
      },
      "source": [
        "import pandas as pd\n",
        "\n",
        "sample_count = 2000\n",
        "df = pd.io.gbq.read_gbq('''\n",
        "  SELECT name, SUM(number) as count\n",
        "  FROM `bigquery-public-data.usa_names.usa_1910_2013`\n",
        "  WHERE state = 'TX'\n",
        "  GROUP BY name\n",
        "  ORDER BY count DESC\n",
        "  LIMIT 100\n",
        "''', project_id=project_id, verbose=False, dialect='standard')\n",
        "\n",
        "df.head()"
      ],
      "execution_count": 0,
      "outputs": []
    },
    {
      "cell_type": "markdown",
      "metadata": {
        "id": "YVAP_DCOmWRR",
        "colab_type": "text"
      },
      "source": [
        "# Assignment\n",
        "### Use the Google Political Advertisement analytics dataset to answer the following questions\n",
        "### This data set contains information on how much is spent by verified advertisers on political advertising across Google Ad Services. In addition, insights on demographic targeting used in political ad campaigns by these advertisers are also provided, as are links to the actual political ad in the Google Transparency report.\n",
        "\n",
        "### Reference. \n",
        "https://github.com/umddm/ECE795_Homeworks/blob/homework_5/bigquery.png"
      ]
    },
    {
      "cell_type": "markdown",
      "metadata": {
        "id": "cYHgNtA-g8pw",
        "colab_type": "text"
      },
      "source": [
        "#### Question 1. From the 'advertiser_stats' table, list the top 20 advertisers and sort them by their total spending in USD \n"
      ]
    },
    {
      "cell_type": "code",
      "metadata": {
        "id": "16j8px5mfFad",
        "colab_type": "code",
        "colab": {}
      },
      "source": [
        "# your code here"
      ],
      "execution_count": 0,
      "outputs": []
    },
    {
      "cell_type": "markdown",
      "metadata": {
        "id": "O0LPpKxphAut",
        "colab_type": "text"
      },
      "source": [
        "#### Question 2. From the 'geo spend' table, list the top 10 states by their total spending in USD"
      ]
    },
    {
      "cell_type": "code",
      "metadata": {
        "id": "8M2ZeEu9foKh",
        "colab_type": "code",
        "colab": {}
      },
      "source": [
        "# your code here"
      ],
      "execution_count": 0,
      "outputs": []
    },
    {
      "cell_type": "markdown",
      "metadata": {
        "id": "V_PPzA0UhESY",
        "colab_type": "text"
      },
      "source": [
        "#### Question 3. From the 'creative_stats' table, which advertiser had their ads running for the most number of days during the years 2018 and 2019"
      ]
    },
    {
      "cell_type": "code",
      "metadata": {
        "id": "SWUL8HITgQCV",
        "colab_type": "code",
        "colab": {}
      },
      "source": [
        "# your code here"
      ],
      "execution_count": 0,
      "outputs": []
    },
    {
      "cell_type": "markdown",
      "metadata": {
        "id": "aobTBCxJhKBp",
        "colab_type": "text"
      },
      "source": [
        "#### Question 4. From the 'campaign_targeting' table, list the top 5 advertisers who target younger population (18-24, 25-34, 35-44)"
      ]
    },
    {
      "cell_type": "code",
      "metadata": {
        "id": "dE6Hk09ng4V6",
        "colab_type": "code",
        "colab": {}
      },
      "source": [
        "# your code here"
      ],
      "execution_count": 0,
      "outputs": []
    },
    {
      "cell_type": "markdown",
      "metadata": {
        "id": "YD1VcMWFiJVi",
        "colab_type": "text"
      },
      "source": [
        "#### Question 5. from the advertiser_stats, list the heaviest spending advertiser by calculating total_spending divided by total_creatives. For this you need to divide the total_spend_usd / total_creatives to get a ratio of their spending per ad. Sort the list and show only the top 10. "
      ]
    },
    {
      "cell_type": "code",
      "metadata": {
        "id": "AKWw7dv7ip2O",
        "colab_type": "code",
        "colab": {}
      },
      "source": [
        "# your code here"
      ],
      "execution_count": 0,
      "outputs": []
    }
  ]
}
