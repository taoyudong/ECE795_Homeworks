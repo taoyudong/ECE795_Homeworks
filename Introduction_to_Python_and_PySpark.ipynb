{
  "nbformat": 4,
  "nbformat_minor": 0,
  "metadata": {
    "colab": {
      "name": "Introduction_to_Python_and_PySpark.ipynb",
      "provenance": [],
      "collapsed_sections": []
    },
    "kernelspec": {
      "name": "python3",
      "language": "python",
      "display_name": "Python 3"
    },
    "pycharm": {
      "stem_cell": {
        "cell_type": "raw",
        "source": [],
        "metadata": {
          "collapsed": false
        }
      }
    }
  },
  "cells": [
    {
      "cell_type": "markdown",
      "metadata": {
        "id": "4A4BhKYXXTPY",
        "colab_type": "text"
      },
      "source": [
        "# Introduction to Python and PySpark\n",
        "\n",
        "This is an additional lecture designed for ECE795 Advanced Big Data course. In this lecture, how to code with Python and PySpark will be discussed. "
      ]
    },
    {
      "cell_type": "markdown",
      "metadata": {
        "id": "d23XWE9CZF4k",
        "colab_type": "text"
      },
      "source": [
        "## Python Introduction \n",
        "\n",
        "- Python is an open-source general-purpose programming language with powerful library and package support. \n",
        "\n",
        "- Python supports object-oriented, procedural and functional programming. \n",
        "\n",
        "- Python has great interactive environment and interfaces with Spark."
      ]
    },
    {
      "cell_type": "markdown",
      "metadata": {
        "collapsed": false,
        "pycharm": {
          "name": "#%% md\n"
        },
        "id": "8n-US32wDvGd",
        "colab_type": "text"
      },
      "source": [
        "## Runing Python: The Python Interpreter\n",
        "\n",
        "### Print the version of Python"
      ]
    },
    {
      "cell_type": "code",
      "metadata": {
        "id": "gDSfuXpLXNDn",
        "colab_type": "code",
        "outputId": "3803a739-e0be-4a86-e704-59d104b974c1",
        "colab": {
          "base_uri": "https://localhost:8080/",
          "height": 36
        }
      },
      "source": [
        "!python --version"
      ],
      "execution_count": 0,
      "outputs": [
        {
          "output_type": "stream",
          "text": [
            "Python 3.6.9\n"
          ],
          "name": "stdout"
        }
      ]
    },
    {
      "cell_type": "markdown",
      "metadata": {
        "id": "UH6D2JWaZpgK",
        "colab_type": "text"
      },
      "source": [
        "### Use Python as calculator"
      ]
    },
    {
      "cell_type": "code",
      "metadata": {
        "id": "zJ_qGrHVZisR",
        "colab_type": "code",
        "outputId": "5bc135c7-2418-4fc1-f283-9f6b86c81229",
        "colab": {
          "base_uri": "https://localhost:8080/",
          "height": 36
        }
      },
      "source": [
        "3 * (7 + 2)"
      ],
      "execution_count": 0,
      "outputs": [
        {
          "output_type": "execute_result",
          "data": {
            "text/plain": [
              "27"
            ]
          },
          "metadata": {
            "tags": []
          },
          "execution_count": 23
        }
      ]
    },
    {
      "cell_type": "markdown",
      "metadata": {
        "id": "SNwNMNGpXR8e",
        "colab_type": "text"
      },
      "source": [
        "### A simple example\n",
        "\n",
        "1. Assignment operator: `=`\n",
        " \n",
        "2. Value comparison: `==`\n",
        "\n",
        "3. Basic arithmetic operators: add(`+`), minus(`-`), multiply(`*`), divide(`/`), and modulo(`%`).\n",
        "\n",
        "    - `+` is also used for string concatenation when the operands are of `str` type.\n",
        "\n",
        "    - `%` is also used for string formatting (as with printf in C)\n",
        "\n",
        "4. Logical operators are in words (`and`, `or`, `not`) but not symbols.\n",
        "\n",
        "5. The basic printing command is `print`."
      ]
    },
    {
      "cell_type": "code",
      "metadata": {
        "id": "QYIfVMwWaBfn",
        "colab_type": "code",
        "outputId": "ac779378-55f5-442a-9cfa-ccacdfb348d8",
        "colab": {
          "base_uri": "https://localhost:8080/",
          "height": 54
        }
      },
      "source": [
        "x = 100 - 50                            # A comment\n",
        "y = 'University'                        # Another one\n",
        "z = 23.33\n",
        "if z == 23.33 or y == 'University':\n",
        "  x = x + 1\n",
        "  y = y + ' of Miami'                   # String concat\n",
        "print(x)\n",
        "print(y)"
      ],
      "execution_count": 0,
      "outputs": [
        {
          "output_type": "stream",
          "text": [
            "51\n",
            "University of Miami\n"
          ],
          "name": "stdout"
        }
      ]
    },
    {
      "cell_type": "markdown",
      "metadata": {
        "id": "uXv9Fl03bGvd",
        "colab_type": "text"
      },
      "source": [
        "bold text### Data Types\n",
        "\n",
        "Number"
      ]
    },
    {
      "cell_type": "code",
      "metadata": {
        "id": "_Yyq4dbTajy5",
        "colab_type": "code",
        "outputId": "4406876f-92b1-4e6b-ce86-50a5ca49a992",
        "colab": {
          "base_uri": "https://localhost:8080/",
          "height": 54
        }
      },
      "source": [
        "# Integers\n",
        "z = int(-8 / 3)\n",
        "print(z)\n",
        "\n",
        "# Floating number which is the same as `double` in C\n",
        "z = float(-8 / 3)\n",
        "print(z)"
      ],
      "execution_count": 0,
      "outputs": [
        {
          "output_type": "stream",
          "text": [
            "-2\n",
            "-2.6666666666666665\n"
          ],
          "name": "stdout"
        }
      ]
    },
    {
      "cell_type": "markdown",
      "metadata": {
        "id": "JYpusi50cnmx",
        "colab_type": "text"
      },
      "source": [
        "Strings"
      ]
    },
    {
      "cell_type": "code",
      "metadata": {
        "id": "CqSOcT2mco54",
        "colab_type": "code",
        "outputId": "729512d4-401b-4c21-eecf-d233251cff7f",
        "colab": {
          "base_uri": "https://localhost:8080/",
          "height": 73
        }
      },
      "source": [
        "# Can use \" \" or ' ' to specify.\n",
        "x = \"abc\"\n",
        "y = 'abc'\n",
        "print(x == y)\n",
        "\n",
        "# Unmatched quotes can occur within the string.\n",
        "z = \"matt's\"\n",
        "print(z)\n",
        "\n",
        "# Use triple double-quotes for multi-line strings or strings than contain both 'and \" inside of them:\n",
        "q = \"\"\"a'b\"c\"\"\"\n",
        "print(q)"
      ],
      "execution_count": 0,
      "outputs": [
        {
          "output_type": "stream",
          "text": [
            "True\n",
            "matt's\n",
            "a'b\"c\n"
          ],
          "name": "stdout"
        }
      ]
    },
    {
      "cell_type": "markdown",
      "metadata": {
        "id": "ciWRMPpRde0D",
        "colab_type": "text"
      },
      "source": [
        "### Whitespace\n",
        "\n",
        "Whitespace is meaningful in Python!!!! Especially the indentation and placement of newlines\n",
        "\n",
        "Use a newline to end a line of code: Use \\ when must go to next line prematurely."
      ]
    },
    {
      "cell_type": "code",
      "metadata": {
        "id": "8SGiYEvCdx7l",
        "colab_type": "code",
        "outputId": "b58260a0-3df8-4b69-8d27-08623978b58d",
        "colab": {
          "base_uri": "https://localhost:8080/",
          "height": 36
        }
      },
      "source": [
        "x = 1\n",
        "y = 2\n",
        "z = x + \\\n",
        "    y\n",
        "print(z)"
      ],
      "execution_count": 0,
      "outputs": [
        {
          "output_type": "stream",
          "text": [
            "3\n"
          ],
          "name": "stdout"
        }
      ]
    },
    {
      "cell_type": "markdown",
      "metadata": {
        "id": "1E_utZmLeFX8",
        "colab_type": "text"
      },
      "source": [
        "### Comments\n",
        "\n",
        "Start comments with `#` : the rest of lines are ignored.\n",
        "\n",
        "Can include a \"\"\"documentation string\"\"\" as the first line of any new function or class that you define.\n",
        "\n",
        "The development environment, debugger, and other tools use it: it’s good style to include one."
      ]
    },
    {
      "cell_type": "code",
      "metadata": {
        "id": "U1b9DBGfeDHk",
        "colab_type": "code",
        "colab": {}
      },
      "source": [
        "def my_function(x, y):\n",
        "  \"\"\"\n",
        "  This is the docstring. This function does ...\n",
        "\n",
        "  Attributes\n",
        "    x (int): number of ...\n",
        "    y (string): ...\n",
        "  \"\"\"\n",
        "  # The code would go here..."
      ],
      "execution_count": 0,
      "outputs": []
    },
    {
      "cell_type": "markdown",
      "metadata": {
        "id": "Bfmi3Al1e_pH",
        "colab_type": "text"
      },
      "source": [
        "### Multiple Simultaneous Assignments"
      ]
    },
    {
      "cell_type": "code",
      "metadata": {
        "id": "j9L7AzmffAQd",
        "colab_type": "code",
        "outputId": "787859ea-d7c0-45d1-9713-c44b7d2e815b",
        "colab": {
          "base_uri": "https://localhost:8080/",
          "height": 36
        }
      },
      "source": [
        "x, y = 1, 100\n",
        "print(x + y)"
      ],
      "execution_count": 0,
      "outputs": [
        {
          "output_type": "stream",
          "text": [
            "101\n"
          ],
          "name": "stdout"
        }
      ]
    },
    {
      "cell_type": "markdown",
      "metadata": {
        "collapsed": false,
        "pycharm": {
          "name": "#%% md\n"
        },
        "id": "-LPi7rDkDvHE",
        "colab_type": "text"
      },
      "source": [
        "### Reserved words\n",
        "\n",
        "and, assert, break, class, continue, def, del, elif, else, except, exec, finally,\n",
        "for, from, global, if, import, in, is, lambda, not, or, pass, print, raise, return,\n",
        "try, while"
      ]
    },
    {
      "cell_type": "markdown",
      "metadata": {
        "id": "RwYc-xKQfWV1",
        "colab_type": "text"
      },
      "source": [
        "### Basic Operators\n",
        "\n",
        "Binary operators on numbers"
      ]
    },
    {
      "cell_type": "code",
      "metadata": {
        "id": "Af_LlOIWfY6c",
        "colab_type": "code",
        "outputId": "66cda7d4-2997-4200-fba3-a0a1b52f8c5e",
        "colab": {
          "base_uri": "https://localhost:8080/",
          "height": 36
        }
      },
      "source": [
        "x = 95\n",
        "y = 7\n",
        "print(x + y, x - y, x / y, x * y, 2 ** y, x % 7, x // 7)"
      ],
      "execution_count": 0,
      "outputs": [
        {
          "output_type": "stream",
          "text": [
            "102 88 13.571428571428571 665 128 4 13\n"
          ],
          "name": "stdout"
        }
      ]
    },
    {
      "cell_type": "code",
      "metadata": {
        "id": "8ajZPAjQge0o",
        "colab_type": "code",
        "outputId": "086bfdd5-4f17-41c0-f0b5-b8e8087548de",
        "colab": {
          "base_uri": "https://localhost:8080/",
          "height": 73
        }
      },
      "source": [
        "# Some overloaded to work on strings\n",
        "print('University' + ' of ' + 'Miami')   # concatenation\n",
        "print('Apple' + 3 * ' Banana')            # replication\n",
        "print(eval('1 + 4 / 3'))"
      ],
      "execution_count": 0,
      "outputs": [
        {
          "output_type": "stream",
          "text": [
            "University of Miami\n",
            "Apple Banana Banana Banana\n",
            "2.333333333333333\n"
          ],
          "name": "stdout"
        }
      ]
    },
    {
      "cell_type": "markdown",
      "metadata": {
        "id": "o6T7ecQDhj_M",
        "colab_type": "text"
      },
      "source": [
        "### Advanced Data Type Usages\n",
        "\n",
        "1. Tuple\n",
        "    \n",
        "    - A simple immutable ordered sequence of items\n",
        "    \n",
        "    - Items can be of mixed types, including collections\n",
        "\n",
        "2. String\n",
        "\n",
        "    - Immutable\n",
        "\n",
        "    - Conceptually very much like a tuple\n",
        "\n",
        "3. List\n",
        "\n",
        "    - Mutable ordered sequence of items of mixed types\n",
        "\n",
        "All three sequence types (tuples, strings, and lists) share\n",
        "much of the same syntax and functionality.\n",
        "\n",
        "Key difference:\n",
        "\n",
        "1. Tuples and strings are immutable\n",
        "\n",
        "2. Lists are mutable\n"
      ]
    },
    {
      "cell_type": "markdown",
      "metadata": {
        "collapsed": false,
        "pycharm": {
          "name": "#%% md\n"
        },
        "id": "aSmVWUV0DvHK",
        "colab_type": "text"
      },
      "source": [
        "Lists are defined using square brackets (and commas)."
      ]
    },
    {
      "cell_type": "code",
      "metadata": {
        "id": "p61IuJWEkKVx",
        "colab_type": "code",
        "outputId": "40470e56-9e30-43ac-d7ee-4516c67ad160",
        "colab": {
          "base_uri": "https://localhost:8080/",
          "height": 36
        }
      },
      "source": [
        "L = ['ECE', 795, 'Advanced Big Data']\n",
        "print(L[2])"
      ],
      "execution_count": 0,
      "outputs": [
        {
          "output_type": "stream",
          "text": [
            "Advanced Big Data\n"
          ],
          "name": "stdout"
        }
      ]
    },
    {
      "cell_type": "code",
      "metadata": {
        "id": "KozSpkbqlFp9",
        "colab_type": "code",
        "outputId": "374daf57-1be9-4f3c-c3fe-6fab6f94f118",
        "colab": {
          "base_uri": "https://localhost:8080/",
          "height": 173
        }
      },
      "source": [
        "print(L[3])"
      ],
      "execution_count": 0,
      "outputs": [
        {
          "output_type": "error",
          "ename": "IndexError",
          "evalue": "ignored",
          "traceback": [
            "\u001b[0;31m---------------------------------------------------------------------------\u001b[0m",
            "\u001b[0;31mIndexError\u001b[0m                                Traceback (most recent call last)",
            "\u001b[0;32m<ipython-input-36-4d6e94a9c06a>\u001b[0m in \u001b[0;36m<module>\u001b[0;34m()\u001b[0m\n\u001b[0;32m----> 1\u001b[0;31m \u001b[0mprint\u001b[0m\u001b[0;34m(\u001b[0m\u001b[0mL\u001b[0m\u001b[0;34m[\u001b[0m\u001b[0;36m3\u001b[0m\u001b[0;34m]\u001b[0m\u001b[0;34m)\u001b[0m\u001b[0;34m\u001b[0m\u001b[0;34m\u001b[0m\u001b[0m\n\u001b[0m",
            "\u001b[0;31mIndexError\u001b[0m: list index out of range"
          ]
        }
      ]
    },
    {
      "cell_type": "code",
      "metadata": {
        "id": "nNkNL_lPlJbo",
        "colab_type": "code",
        "outputId": "2b472fff-48c1-49af-f7ad-128f2cf2c948",
        "colab": {
          "base_uri": "https://localhost:8080/",
          "height": 36
        }
      },
      "source": [
        "print(L[-1])"
      ],
      "execution_count": 0,
      "outputs": [
        {
          "output_type": "stream",
          "text": [
            "Advanced Big Data\n"
          ],
          "name": "stdout"
        }
      ]
    },
    {
      "cell_type": "markdown",
      "metadata": {
        "id": "JdHbrnqM2Ija",
        "colab_type": "text"
      },
      "source": [
        "Mutability: Lists are Mutable and Operations Only on Lists"
      ]
    },
    {
      "cell_type": "code",
      "metadata": {
        "id": "yf_u_tQ9lQ9U",
        "colab_type": "code",
        "outputId": "37fbeefb-9f62-402c-8da8-f3d7c67e9158",
        "colab": {
          "base_uri": "https://localhost:8080/",
          "height": 36
        }
      },
      "source": [
        "L.append('College of Engineering')\n",
        "print(L)"
      ],
      "execution_count": 0,
      "outputs": [
        {
          "output_type": "stream",
          "text": [
            "['ECE', 795, 'Advanced Big Data', 'College of Engineering']\n"
          ],
          "name": "stdout"
        }
      ]
    },
    {
      "cell_type": "code",
      "metadata": {
        "id": "Q8EwlJATlaRb",
        "colab_type": "code",
        "outputId": "31826c0c-6206-4d00-83a7-82cc5c358f92",
        "colab": {
          "base_uri": "https://localhost:8080/",
          "height": 36
        }
      },
      "source": [
        "L.insert(3, 'Dr. Shyu')\n",
        "print(L)"
      ],
      "execution_count": 0,
      "outputs": [
        {
          "output_type": "stream",
          "text": [
            "['ECE', 795, 'Advanced Big Data', 'Dr. Shyu', 'College of Engineering']\n"
          ],
          "name": "stdout"
        }
      ]
    },
    {
      "cell_type": "code",
      "metadata": {
        "id": "-v7oMZ5_liFs",
        "colab_type": "code",
        "outputId": "a954451a-9da8-49f9-bab5-6ec332d44782",
        "colab": {
          "base_uri": "https://localhost:8080/",
          "height": 36
        }
      },
      "source": [
        "L.pop()\n",
        "print(L)"
      ],
      "execution_count": 0,
      "outputs": [
        {
          "output_type": "stream",
          "text": [
            "['ECE', 795, 'Advanced Big Data', 'Dr. Shyu']\n"
          ],
          "name": "stdout"
        }
      ]
    },
    {
      "cell_type": "code",
      "metadata": {
        "id": "SUZrcM9OloAm",
        "colab_type": "code",
        "outputId": "2ed7cc1d-303a-446c-fd99-a008b4133618",
        "colab": {
          "base_uri": "https://localhost:8080/",
          "height": 36
        }
      },
      "source": [
        "L.pop(2)\n",
        "print(L)"
      ],
      "execution_count": 0,
      "outputs": [
        {
          "output_type": "stream",
          "text": [
            "['ECE', 795, 'Dr. Shyu']\n"
          ],
          "name": "stdout"
        }
      ]
    },
    {
      "cell_type": "code",
      "metadata": {
        "id": "ozm4Irq0l-2f",
        "colab_type": "code",
        "outputId": "c5350862-6b9f-44b8-efb8-55085e74a30d",
        "colab": {
          "base_uri": "https://localhost:8080/",
          "height": 36
        }
      },
      "source": [
        "L[2] = 'College of Engineering'\n",
        "print(L)"
      ],
      "execution_count": 0,
      "outputs": [
        {
          "output_type": "stream",
          "text": [
            "['ECE', 795, 'College of Engineering']\n"
          ],
          "name": "stdout"
        }
      ]
    },
    {
      "cell_type": "markdown",
      "metadata": {
        "id": "Uh5PyuC016EP",
        "colab_type": "text"
      },
      "source": [
        "Mutability: Tuples are Immutable"
      ]
    },
    {
      "cell_type": "code",
      "metadata": {
        "id": "Yb4lLgW4mG_r",
        "colab_type": "code",
        "outputId": "3c891c42-606b-4599-9baa-d4950dcc55bc",
        "colab": {
          "base_uri": "https://localhost:8080/",
          "height": 36
        }
      },
      "source": [
        "# Tuples are defined using parentheses (and commas).\n",
        "T = ('ECE', 795, 'Advanced Big Data')\n",
        "print(T)"
      ],
      "execution_count": 0,
      "outputs": [
        {
          "output_type": "stream",
          "text": [
            "('ECE', 795, 'Advanced Big Data')\n"
          ],
          "name": "stdout"
        }
      ]
    },
    {
      "cell_type": "code",
      "metadata": {
        "id": "y0qU04gfvP8i",
        "colab_type": "code",
        "outputId": "20064515-20fb-4e0f-86cc-2527649f21df",
        "colab": {
          "base_uri": "https://localhost:8080/",
          "height": 173
        }
      },
      "source": [
        "T[1] = 800"
      ],
      "execution_count": 0,
      "outputs": [
        {
          "output_type": "error",
          "ename": "TypeError",
          "evalue": "ignored",
          "traceback": [
            "\u001b[0;31m---------------------------------------------------------------------------\u001b[0m",
            "\u001b[0;31mTypeError\u001b[0m                                 Traceback (most recent call last)",
            "\u001b[0;32m<ipython-input-44-a96b0bdfce1f>\u001b[0m in \u001b[0;36m<module>\u001b[0;34m()\u001b[0m\n\u001b[0;32m----> 1\u001b[0;31m \u001b[0mT\u001b[0m\u001b[0;34m[\u001b[0m\u001b[0;36m1\u001b[0m\u001b[0;34m]\u001b[0m \u001b[0;34m=\u001b[0m \u001b[0;36m800\u001b[0m\u001b[0;34m\u001b[0m\u001b[0;34m\u001b[0m\u001b[0m\n\u001b[0m",
            "\u001b[0;31mTypeError\u001b[0m: 'tuple' object does not support item assignment"
          ]
        }
      ]
    },
    {
      "cell_type": "code",
      "metadata": {
        "id": "sY4TiSibvW-S",
        "colab_type": "code",
        "outputId": "eac48d8d-d46a-4460-84c2-3b49a858a95c",
        "colab": {
          "base_uri": "https://localhost:8080/",
          "height": 54
        }
      },
      "source": [
        "T = ('ECE', 795, 'Advanced Big Data', ['a', 'b', 'c'])\n",
        "print(T)\n",
        "T[3][0] = 1\n",
        "T[3][1] = 2\n",
        "print(T)"
      ],
      "execution_count": 0,
      "outputs": [
        {
          "output_type": "stream",
          "text": [
            "('ECE', 795, 'Advanced Big Data', ['a', 'b', 'c'])\n",
            "('ECE', 795, 'Advanced Big Data', [1, 2, 'c'])\n"
          ],
          "name": "stdout"
        }
      ]
    },
    {
      "cell_type": "markdown",
      "metadata": {
        "collapsed": false,
        "pycharm": {
          "name": "#%% md\n"
        },
        "id": "k60ccQfADvHi",
        "colab_type": "text"
      },
      "source": [
        "Slicing: Return a Copy of a Subset"
      ]
    },
    {
      "cell_type": "code",
      "metadata": {
        "id": "-Ol4oPCcx0fD",
        "colab_type": "code",
        "outputId": "f4e60c32-fb2f-413d-ed13-7b981b3a99b4",
        "colab": {
          "base_uri": "https://localhost:8080/",
          "height": 73
        }
      },
      "source": [
        "print(T[1:3])\n",
        "print(T[:3])\n",
        "print(T[2:])"
      ],
      "execution_count": 0,
      "outputs": [
        {
          "output_type": "stream",
          "text": [
            "(795, 'Advanced Big Data')\n",
            "('ECE', 795, 'Advanced Big Data')\n",
            "('Advanced Big Data', [1, 2, 'c'])\n"
          ],
          "name": "stdout"
        }
      ]
    },
    {
      "cell_type": "markdown",
      "metadata": {
        "collapsed": false,
        "pycharm": {
          "name": "#%% md\n"
        },
        "id": "Qo99IgpuDvHk",
        "colab_type": "text"
      },
      "source": [
        "Copy the Entire Sequence"
      ]
    },
    {
      "cell_type": "code",
      "metadata": {
        "id": "IgOTmlXvyIqm",
        "colab_type": "code",
        "outputId": "a5671afe-0af6-44fb-da90-724c42af28df",
        "colab": {
          "base_uri": "https://localhost:8080/",
          "height": 54
        }
      },
      "source": [
        "A = [1, 2, 3, 4]\n",
        "B = A\n",
        "B[1] = 100\n",
        "print(A, B)\n",
        "\n",
        "A = [1, 2, 3, 4]\n",
        "B = A[:]\n",
        "B[1] = 100\n",
        "print(A, B)"
      ],
      "execution_count": 0,
      "outputs": [
        {
          "output_type": "stream",
          "text": [
            "[1, 100, 3, 4] [1, 100, 3, 4]\n",
            "[1, 2, 3, 4] [1, 100, 3, 4]\n"
          ],
          "name": "stdout"
        }
      ]
    },
    {
      "cell_type": "code",
      "metadata": {
        "id": "_2dZYmHywEs9",
        "colab_type": "code",
        "outputId": "c390de21-1043-48da-c156-d6767a06c589",
        "colab": {
          "base_uri": "https://localhost:8080/",
          "height": 36
        }
      },
      "source": [
        "St = 'ECE 795 Advanced Big Data'\n",
        "print(St[4])"
      ],
      "execution_count": 0,
      "outputs": [
        {
          "output_type": "stream",
          "text": [
            "7\n"
          ],
          "name": "stdout"
        }
      ]
    },
    {
      "cell_type": "markdown",
      "metadata": {
        "id": "IkE-niV0zE5F",
        "colab_type": "text"
      },
      "source": [
        "### Membership test\n",
        "\n",
        "Boolean test whether a value is inside a container:"
      ]
    },
    {
      "cell_type": "markdown",
      "metadata": {
        "id": "k8jFcrRUzTAe",
        "colab_type": "text"
      },
      "source": [
        "For strings, also tests for substrings"
      ]
    },
    {
      "cell_type": "code",
      "metadata": {
        "id": "B3TqImZJzUj5",
        "colab_type": "code",
        "outputId": "7433efb2-fb35-45b0-c72f-b5e1420ffe63",
        "colab": {
          "base_uri": "https://localhost:8080/",
          "height": 54
        }
      },
      "source": [
        "st = 'University of Miami'\n",
        "print('Miami' in st)\n",
        "print('M' in st)"
      ],
      "execution_count": 0,
      "outputs": [
        {
          "output_type": "stream",
          "text": [
            "True\n",
            "True\n"
          ],
          "name": "stdout"
        }
      ]
    },
    {
      "cell_type": "code",
      "metadata": {
        "id": "Tz06wYFjRN1x",
        "colab_type": "code",
        "outputId": "ca31479c-017d-4594-ce74-e0c70fa5fb41",
        "colab": {
          "base_uri": "https://localhost:8080/",
          "height": 54
        }
      },
      "source": [
        "L = ['University', 'of', 'Miami']\n",
        "print('Miami' in L)\n",
        "print('M' in L)"
      ],
      "execution_count": 0,
      "outputs": [
        {
          "output_type": "stream",
          "text": [
            "True\n",
            "False\n"
          ],
          "name": "stdout"
        }
      ]
    },
    {
      "cell_type": "markdown",
      "metadata": {
        "id": "G3kg-g1dzz8x",
        "colab_type": "text"
      },
      "source": [
        "### Replication\n",
        "\n",
        "The * operator produces a new tuple, list, or string that repeats the original content"
      ]
    },
    {
      "cell_type": "code",
      "metadata": {
        "id": "wRBeCc0qz70Y",
        "colab_type": "code",
        "outputId": "24181745-b6b7-4725-fb95-eb1c9ef0fe82",
        "colab": {
          "base_uri": "https://localhost:8080/",
          "height": 91
        }
      },
      "source": [
        "print((1, 2) * 3)\n",
        "print([1, 2] * 3)\n",
        "print('Miami' * 3)\n",
        "\n",
        "print('E' * 10)"
      ],
      "execution_count": 0,
      "outputs": [
        {
          "output_type": "stream",
          "text": [
            "(1, 2, 1, 2, 1, 2)\n",
            "[1, 2, 1, 2, 1, 2]\n",
            "MiamiMiamiMiami\n",
            "EEEEEEEEEE\n"
          ],
          "name": "stdout"
        }
      ]
    },
    {
      "cell_type": "markdown",
      "metadata": {
        "id": "V3nqRAff2Z09",
        "colab_type": "text"
      },
      "source": [
        "Lists made out of other lists: List Comprehension"
      ]
    },
    {
      "cell_type": "code",
      "metadata": {
        "id": "V-QWz2Kp2c-W",
        "colab_type": "code",
        "outputId": "66de6928-f039-4d49-83a5-719d9220bd32",
        "colab": {
          "base_uri": "https://localhost:8080/",
          "height": 36
        }
      },
      "source": [
        "L = list(range(5))\n",
        "print(L)"
      ],
      "execution_count": 0,
      "outputs": [
        {
          "output_type": "stream",
          "text": [
            "[0, 1, 2, 3, 4]\n"
          ],
          "name": "stdout"
        }
      ]
    },
    {
      "cell_type": "code",
      "metadata": {
        "id": "Q0Xm7ICB2tz3",
        "colab_type": "code",
        "outputId": "e9bac05a-f50b-42c0-d310-12ad71910f63",
        "colab": {
          "base_uri": "https://localhost:8080/",
          "height": 36
        }
      },
      "source": [
        "squares = [x ** 2 for x in L]\n",
        "print(squares)"
      ],
      "execution_count": 0,
      "outputs": [
        {
          "output_type": "stream",
          "text": [
            "[0, 1, 4, 9, 16]\n"
          ],
          "name": "stdout"
        }
      ]
    },
    {
      "cell_type": "code",
      "metadata": {
        "id": "GTiTWbuo24ea",
        "colab_type": "code",
        "outputId": "174ca16e-243c-4ca4-aaee-64f82d988c52",
        "colab": {
          "base_uri": "https://localhost:8080/",
          "height": 36
        }
      },
      "source": [
        "even_squares = [x for x in squares if x % 2 == 0]\n",
        "print(even_squares)"
      ],
      "execution_count": 0,
      "outputs": [
        {
          "output_type": "stream",
          "text": [
            "[0, 4, 16]\n"
          ],
          "name": "stdout"
        }
      ]
    },
    {
      "cell_type": "code",
      "metadata": {
        "id": "ZXw8fRA13Gmv",
        "colab_type": "code",
        "outputId": "57225079-1550-4e83-eba5-6a4c37edc88e",
        "colab": {
          "base_uri": "https://localhost:8080/",
          "height": 36
        }
      },
      "source": [
        "newlist = [(x, 1) for x in even_squares]\n",
        "print(newlist)"
      ],
      "execution_count": 0,
      "outputs": [
        {
          "output_type": "stream",
          "text": [
            "[(0, 1), (4, 1), (16, 1)]\n"
          ],
          "name": "stdout"
        }
      ]
    },
    {
      "cell_type": "code",
      "metadata": {
        "id": "hk991wjV3T0c",
        "colab_type": "code",
        "outputId": "17ff5015-12d4-4010-da72-c6e46af6f950",
        "colab": {
          "base_uri": "https://localhost:8080/",
          "height": 36
        }
      },
      "source": [
        "newlist = [list(range(x)) for x in range(5)]\n",
        "print(newlist)"
      ],
      "execution_count": 0,
      "outputs": [
        {
          "output_type": "stream",
          "text": [
            "[[], [0], [0, 1], [0, 1, 2], [0, 1, 2, 3]]\n"
          ],
          "name": "stdout"
        }
      ]
    },
    {
      "cell_type": "code",
      "metadata": {
        "id": "bXXj3W-P3b0N",
        "colab_type": "code",
        "outputId": "84c18e98-84c8-4723-bdd4-c5ba17759263",
        "colab": {
          "base_uri": "https://localhost:8080/",
          "height": 36
        }
      },
      "source": [
        "newlist = [y for x in range(5) for y in range(x)] #\"nested\" for loop\n",
        "print(newlist)"
      ],
      "execution_count": 0,
      "outputs": [
        {
          "output_type": "stream",
          "text": [
            "[0, 0, 1, 0, 1, 2, 0, 1, 2, 3]\n"
          ],
          "name": "stdout"
        }
      ]
    },
    {
      "cell_type": "code",
      "metadata": {
        "id": "wJljAQWtUEFo",
        "colab_type": "code",
        "outputId": "b1af1f6a-d46c-4edf-f566-2f0d049a96c8",
        "colab": {
          "base_uri": "https://localhost:8080/",
          "height": 36
        }
      },
      "source": [
        "newlist = []\n",
        "for x in range(6):\n",
        "  for y in range(x):\n",
        "    newlist.append(y)\n",
        "\n",
        "print(newlist)"
      ],
      "execution_count": 0,
      "outputs": [
        {
          "output_type": "stream",
          "text": [
            "[0, 0, 1, 0, 1, 2, 0, 1, 2, 3, 0, 1, 2, 3, 4]\n"
          ],
          "name": "stdout"
        }
      ]
    },
    {
      "cell_type": "markdown",
      "metadata": {
        "id": "pej3sXSQ5giP",
        "colab_type": "text"
      },
      "source": [
        "### Control Flow\n",
        "if statement"
      ]
    },
    {
      "cell_type": "code",
      "metadata": {
        "id": "sCvxbp6q5qIe",
        "colab_type": "code",
        "outputId": "d302053f-ff53-46ee-fc40-bd6f43b244c9",
        "colab": {
          "base_uri": "https://localhost:8080/",
          "height": 36
        }
      },
      "source": [
        "x = 3\n",
        "if x == 1:\n",
        "  print('x = 1')\n",
        "elif x == 2:\n",
        "  print('x = 2')\n",
        "else:\n",
        "  print('x equals something else')"
      ],
      "execution_count": 0,
      "outputs": [
        {
          "output_type": "stream",
          "text": [
            "x equals something else\n"
          ],
          "name": "stdout"
        }
      ]
    },
    {
      "cell_type": "code",
      "metadata": {
        "id": "OsiuaXre58vu",
        "colab_type": "code",
        "outputId": "11abc196-b7eb-429a-8913-9de89282d95b",
        "colab": {
          "base_uri": "https://localhost:8080/",
          "height": 54
        }
      },
      "source": [
        "x = 'abc'\n",
        "if 'a' in x:\n",
        "  print('a is in string x')\n",
        "if 'b' in x:\n",
        "  print('b is in string x')\n",
        "else:\n",
        "  print('both a and b is not in string x')\n",
        "\n"
      ],
      "execution_count": 0,
      "outputs": [
        {
          "output_type": "stream",
          "text": [
            "a is in string x\n",
            "b is in string x\n"
          ],
          "name": "stdout"
        }
      ]
    },
    {
      "cell_type": "markdown",
      "metadata": {
        "id": "a5dpp5ay5d6g",
        "colab_type": "text"
      },
      "source": [
        "while statement: Fibonacci Series:"
      ]
    },
    {
      "cell_type": "code",
      "metadata": {
        "id": "Z7oYQjQ16XFK",
        "colab_type": "code",
        "outputId": "3e911701-3432-4954-aaae-2174a8da43e2",
        "colab": {
          "base_uri": "https://localhost:8080/",
          "height": 239
        }
      },
      "source": [
        "a, b = 0, 1\n",
        "while a < 100:\n",
        "  print(a)\n",
        "  a, b =b, a + b"
      ],
      "execution_count": 0,
      "outputs": [
        {
          "output_type": "stream",
          "text": [
            "0\n",
            "1\n",
            "1\n",
            "2\n",
            "3\n",
            "5\n",
            "8\n",
            "13\n",
            "21\n",
            "34\n",
            "55\n",
            "89\n"
          ],
          "name": "stdout"
        }
      ]
    },
    {
      "cell_type": "markdown",
      "metadata": {
        "id": "YmByV5uB7Tmu",
        "colab_type": "text"
      },
      "source": [
        "for loop: Primality Test"
      ]
    },
    {
      "cell_type": "code",
      "metadata": {
        "id": "BByp-wmD7ZMk",
        "colab_type": "code",
        "outputId": "a07a7c77-a1c3-4b8a-8059-bb3084e95cbe",
        "colab": {
          "base_uri": "https://localhost:8080/",
          "height": 165
        }
      },
      "source": [
        "for n in range(2, 10):\n",
        "  for x in range(2, n):\n",
        "    if n % x == 0:\n",
        "      print(n, 'equals', x, '*', n//x)\n",
        "      break\n",
        "  else:    #executed only if loop does not break early\n",
        "    print(n, 'is a prime number')"
      ],
      "execution_count": 0,
      "outputs": [
        {
          "output_type": "stream",
          "text": [
            "2 is a prime number\n",
            "3 is a prime number\n",
            "4 equals 2 * 2\n",
            "5 is a prime number\n",
            "6 equals 2 * 3\n",
            "7 is a prime number\n",
            "8 equals 2 * 4\n",
            "9 equals 3 * 3\n"
          ],
          "name": "stdout"
        }
      ]
    },
    {
      "cell_type": "markdown",
      "metadata": {
        "id": "bYaNJVWY80v3",
        "colab_type": "text"
      },
      "source": [
        "### Function\n",
        "\n",
        "Function Definitions\n",
        "\n",
        "1. def creates a function and assigns it a name\n",
        "\n",
        "2. return sends a result back to the caller\n",
        "\n",
        "3. Arguments are passed by assignment\n",
        "\n",
        "4. Arguments and return types are not declared:"
      ]
    },
    {
      "cell_type": "code",
      "metadata": {
        "id": "Jv1FMkBs9BP4",
        "colab_type": "code",
        "outputId": "262780c7-1cba-4bb7-aec0-49de3ec64222",
        "colab": {
          "base_uri": "https://localhost:8080/",
          "height": 36
        }
      },
      "source": [
        "def mean(Num):\n",
        "  sum = 0\n",
        "  for each in Num:\n",
        "    sum += each\n",
        "  return sum / len(Num)\n",
        "\n",
        "print(mean([1, 2, 3, 9, 10])) "
      ],
      "execution_count": 0,
      "outputs": [
        {
          "output_type": "stream",
          "text": [
            "5.0\n"
          ],
          "name": "stdout"
        }
      ]
    },
    {
      "cell_type": "markdown",
      "metadata": {
        "id": "i4YGWaV_-A4f",
        "colab_type": "text"
      },
      "source": [
        "### Python Modules\n",
        "\n",
        "Modules comprise functions and variables defined in separate files\n",
        "\n",
        "Functions or variables from a module are imported using from or import"
      ]
    },
    {
      "cell_type": "code",
      "metadata": {
        "id": "iUs4YKup-ILd",
        "colab_type": "code",
        "outputId": "25c4c7c0-f57d-4fae-f2a1-7c807bcf08ef",
        "colab": {
          "base_uri": "https://localhost:8080/",
          "height": 36
        }
      },
      "source": [
        "import numpy\n",
        "print(numpy.sqrt(144))"
      ],
      "execution_count": 0,
      "outputs": [
        {
          "output_type": "stream",
          "text": [
            "12.0\n"
          ],
          "name": "stdout"
        }
      ]
    },
    {
      "cell_type": "code",
      "metadata": {
        "id": "1ZWec3D3-Yeg",
        "colab_type": "code",
        "outputId": "bcc6d690-cfb8-423a-81e0-319cb6eaa0cb",
        "colab": {
          "base_uri": "https://localhost:8080/",
          "height": 54
        }
      },
      "source": [
        "from numpy import sqrt, exp\n",
        "print(sqrt(144))\n",
        "print(exp(2))"
      ],
      "execution_count": 0,
      "outputs": [
        {
          "output_type": "stream",
          "text": [
            "12.0\n",
            "7.38905609893065\n"
          ],
          "name": "stdout"
        }
      ]
    },
    {
      "cell_type": "code",
      "metadata": {
        "id": "KIGiCHjT-fmT",
        "colab_type": "code",
        "outputId": "cc793d28-1493-490c-bae8-822f58a9344a",
        "colab": {
          "base_uri": "https://localhost:8080/",
          "height": 36
        }
      },
      "source": [
        "import numpy as np\n",
        "print(np.sqrt(144))"
      ],
      "execution_count": 0,
      "outputs": [
        {
          "output_type": "stream",
          "text": [
            "12.0\n"
          ],
          "name": "stdout"
        }
      ]
    },
    {
      "cell_type": "code",
      "metadata": {
        "id": "S9VosWzr-lUH",
        "colab_type": "code",
        "outputId": "5731f73e-6f3f-41f3-d600-d4229a80e31e",
        "colab": {
          "base_uri": "https://localhost:8080/",
          "height": 54
        }
      },
      "source": [
        "from numpy import * #No recommended\n",
        "print(sqrt(144))\n",
        "print(exp(2))"
      ],
      "execution_count": 0,
      "outputs": [
        {
          "output_type": "stream",
          "text": [
            "12.0\n",
            "7.38905609893065\n"
          ],
          "name": "stdout"
        }
      ]
    },
    {
      "cell_type": "code",
      "metadata": {
        "id": "om69PjwV_Ic9",
        "colab_type": "code",
        "outputId": "1ccb2a8e-5c8c-4722-c776-20a5a8923637",
        "colab": {
          "base_uri": "https://localhost:8080/",
          "height": 110
        }
      },
      "source": [
        "import numpy as np\n",
        "a = np.array([1, 2, 3])\n",
        "b = np.array([10, 20, 30])\n",
        "print(a + b)\n",
        "print(np.dot(a, b))\n",
        "print(np.outer(a, b))"
      ],
      "execution_count": 0,
      "outputs": [
        {
          "output_type": "stream",
          "text": [
            "[11 22 33]\n",
            "140\n",
            "[[10 20 30]\n",
            " [20 40 60]\n",
            " [30 60 90]]\n"
          ],
          "name": "stdout"
        }
      ]
    },
    {
      "cell_type": "markdown",
      "metadata": {
        "id": "DWnzGf5L_sLU",
        "colab_type": "text"
      },
      "source": [
        "## PySpark Introdction\n",
        "\n",
        "What is Spark?\n",
        "\n",
        "A general engine for large-scale data processing\n",
        "\n",
        "Fast, expressive cluster computing system compatible\n",
        "with Apache Hadoop\n",
        "\n",
        "Improves efficiency through:\n",
        "\n",
        "1. In-memory computing primitives\n",
        "\n",
        "2. General computation graphs\n",
        "\n",
        "Improves usability through:\n",
        "\n",
        "1. Rich APIs in Java, Scala, Python\n",
        "\n",
        "2. Interactive shell\n",
        "\n",
        "Programmer’s point of view:\n",
        "\n",
        "“Normal” python program, with “special” parallel data\n",
        "structures\n",
        "\n",
        "Easy to write short, clear map/reduce operations\n",
        "\n",
        "Full expressibility of java/scala/python “included”"
      ]
    },
    {
      "cell_type": "markdown",
      "metadata": {
        "id": "cop8JREuB4ud",
        "colab_type": "text"
      },
      "source": [
        "# Quick Tour of Operations\n",
        "Starting point for spark functionalities\n",
        "\n",
        "In pyspark interpreter, automatically loaded\n",
        "variable:\n",
        "\n",
        "`sc`\n",
        "\n",
        "In standalone programs, you create your own\n",
        "\n",
        "Creating an RDD"
      ]
    },
    {
      "cell_type": "code",
      "metadata": {
        "id": "U5maEq6CC7ZR",
        "colab_type": "code",
        "colab": {}
      },
      "source": [
        "#Setup PySpark\n",
        "\n",
        "!apt-get install openjdk-8-jdk-headless -qq > /dev/null\n",
        "!wget -q https://www-us.apache.org/dist/spark/spark-2.4.4/spark-2.4.4-bin-hadoop2.7.tgz\n",
        "!tar xf spark-2.4.4-bin-hadoop2.7.tgz\n",
        "!pip install -q findspark\n",
        "\n",
        "import os\n",
        "os.environ[\"JAVA_HOME\"] = \"/usr/lib/jvm/java-8-openjdk-amd64\"\n",
        "os.environ[\"SPARK_HOME\"] = \"/content/spark-2.4.4-bin-hadoop2.7\"\n",
        "\n",
        "import findspark\n",
        "findspark.init()\n",
        "from pyspark.sql import SparkSession\n",
        "spark = SparkSession.builder.master(\"local[*]\").getOrCreate()\n",
        "\n",
        "from pyspark import SparkConf, SparkContext\n",
        "sc = SparkContext.getOrCreate()"
      ],
      "execution_count": 0,
      "outputs": []
    },
    {
      "cell_type": "code",
      "metadata": {
        "id": "M63SR-u0CwgL",
        "colab_type": "code",
        "outputId": "4cfe3a8c-4338-40dd-9f86-00d7e9c1d171",
        "colab": {
          "base_uri": "https://localhost:8080/",
          "height": 36
        }
      },
      "source": [
        "# Turn a local collection into an RDD\n",
        "rdd = sc.parallelize([1, 2, 3])\n",
        "print(rdd.take(2))"
      ],
      "execution_count": 0,
      "outputs": [
        {
          "output_type": "stream",
          "text": [
            "[1, 2]\n"
          ],
          "name": "stdout"
        }
      ]
    },
    {
      "cell_type": "code",
      "metadata": {
        "id": "zE6uULqeDpMS",
        "colab_type": "code",
        "outputId": "c112351d-b078-4526-eccd-aa29776a7278",
        "colab": {
          "base_uri": "https://localhost:8080/",
          "height": 56
        }
      },
      "source": [
        "rdd = sc.textFile('/content/sample_data/california_housing_test.csv')\n",
        "print(rdd.take(2))"
      ],
      "execution_count": 0,
      "outputs": [
        {
          "output_type": "stream",
          "text": [
            "['\"longitude\",\"latitude\",\"housing_median_age\",\"total_rooms\",\"total_bedrooms\",\"population\",\"households\",\"median_income\",\"median_house_value\"', '-122.050000,37.370000,27.000000,3885.000000,661.000000,1537.000000,606.000000,6.608500,344700.000000']\n"
          ],
          "name": "stdout"
        }
      ]
    },
    {
      "cell_type": "markdown",
      "metadata": {
        "id": "4gHVEmGYEaVC",
        "colab_type": "text"
      },
      "source": [
        "\n",
        "Elements in the RDD are lines of the file\n",
        "\n",
        "The RDD is distributed over multiple machines\n",
        "\n",
        "The RDD is immutable\n",
        "\n",
        "1. You cannot change it,\n",
        "\n",
        "2. Cannot see individual elements (e.g., 5th element)\n",
        "\n",
        "3. Can only interact with it through specific ops"
      ]
    },
    {
      "cell_type": "code",
      "metadata": {
        "id": "Vvm5MbVFEtzS",
        "colab_type": "code",
        "outputId": "567eb107-2f11-4e58-946f-b878d6e1af10",
        "colab": {
          "base_uri": "https://localhost:8080/",
          "height": 54
        }
      },
      "source": [
        "#Basic Transformations\n",
        "nums = sc.parallelize([0, 1, 2, 3, 4])\n",
        "\n",
        "# Pass each element through a function\n",
        "squares = nums.map(lambda x: x * x)\n",
        "print(squares.take(10))\n",
        "\n",
        "\n",
        "\n",
        "# Keep elements passing a predicate\n",
        "even = squares.filter(lambda x: x % 2 == 0)\n",
        "\n",
        "print(even.take(10))"
      ],
      "execution_count": 0,
      "outputs": [
        {
          "output_type": "stream",
          "text": [
            "[0, 1, 4, 9, 16]\n",
            "[0, 4, 16]\n"
          ],
          "name": "stdout"
        }
      ]
    },
    {
      "cell_type": "code",
      "metadata": {
        "id": "Nw8w8zKBrZa7",
        "colab_type": "code",
        "outputId": "c1cbad76-4cfc-433c-810a-37bc9b6237af",
        "colab": {
          "base_uri": "https://localhost:8080/",
          "height": 54
        }
      },
      "source": [
        "nums = range(5)\n",
        "print(list(nums))\n",
        "L = []\n",
        "for each in nums:\n",
        "  square = each * each\n",
        "  if square % 2 == 0:\n",
        "    L.append(square)\n",
        "\n",
        "print(L)"
      ],
      "execution_count": 0,
      "outputs": [
        {
          "output_type": "stream",
          "text": [
            "[0, 1, 2, 3, 4]\n",
            "[0, 4, 16]\n"
          ],
          "name": "stdout"
        }
      ]
    },
    {
      "cell_type": "code",
      "metadata": {
        "id": "2v3Mt2u2FGrh",
        "colab_type": "code",
        "colab": {}
      },
      "source": [
        "#Basic Actions\n",
        "nums = sc.parallelize([1, 2, 3])\n",
        "\n",
        "# Retrieve RDD contents as a local collection\n",
        "print(nums.collect())\n",
        "\n",
        "# Count number of elements\n",
        "print(nums.count())\n",
        "\n",
        "# Write elements to a text file\n",
        "#nums.saveAsTextFile('file.txt')"
      ],
      "execution_count": 0,
      "outputs": []
    }
  ]
}