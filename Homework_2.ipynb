{
  "nbformat": 4,
  "nbformat_minor": 0,
  "metadata": {
    "colab": {
      "name": "Homework_2",
      "provenance": [],
      "collapsed_sections": [],
      "toc_visible": true
    },
    "kernelspec": {
      "name": "python3",
      "display_name": "Python 3"
    }
  },
  "cells": [
    {
      "cell_type": "markdown",
      "metadata": {
        "id": "sq8U3BtmhtRx",
        "colab_type": "text"
      },
      "source": [
        "\n",
        "# ECE795 Advanced Big Data Analytics Homework 2\n",
        "\n",
        "Set up Pyspark Environment.\n",
        "\n",
        "Tips for Colab:\n",
        "\n",
        "1. You will be disconnected if you are idle for more than 90 minutes and will be mandatorily disconnected after 12 hour connection. \n",
        "\n",
        "2. Once you got disconnected, you need to execute the codes from the beginning to setup the environment again.\n",
        "\n",
        "3. For the purpose of homework, it should be sufficient since each problem should not take more than 5 minutes to generate the results.\n",
        "\n",
        "4. To facilitate the use of Colab, you can use \"MainMenu - Runtime - Run all” to run all the cells in the notebook. So you do not have to click each cell to setup the environment."
      ]
    },
    {
      "cell_type": "code",
      "metadata": {
        "id": "lh5NCoc8fsSO",
        "colab_type": "code",
        "colab": {}
      },
      "source": [
        "!apt-get install openjdk-8-jdk-headless -qq > /dev/null\n",
        "!wget -q https://www-us.apache.org/dist/spark/spark-2.4.4/spark-2.4.4-bin-hadoop2.7.tgz\n",
        "!tar xf spark-2.4.4-bin-hadoop2.7.tgz\n",
        "!pip install -q findspark\n",
        "\n",
        "import os\n",
        "os.environ[\"JAVA_HOME\"] = \"/usr/lib/jvm/java-8-openjdk-amd64\"\n",
        "os.environ[\"SPARK_HOME\"] = \"/content/spark-2.4.4-bin-hadoop2.7\"\n",
        "\n",
        "import findspark\n",
        "findspark.init()\n",
        "from pyspark.sql import SparkSession\n",
        "spark = SparkSession.builder.master(\"local[*]\").getOrCreate()"
      ],
      "execution_count": 0,
      "outputs": []
    },
    {
      "cell_type": "markdown",
      "metadata": {
        "id": "JEb4HTRwiaJx",
        "colab_type": "text"
      },
      "source": [
        "Congrats! Your Colab is ready to run Pyspark.\n",
        "\n",
        "# Read input text file to RDD \n",
        "\n",
        "Download the input data from [here](https://raw.githubusercontent.com/umddm/ECE795_Homeworks/master/clust_B.txt)."
      ]
    },
    {
      "cell_type": "code",
      "metadata": {
        "id": "PAISFqHXf7dt",
        "colab_type": "code",
        "colab": {}
      },
      "source": [
        "!wget https://raw.githubusercontent.com/umddm/ECE795_Homeworks/master/clust_B_part1.txt\n",
        "!wget https://raw.githubusercontent.com/umddm/ECE795_Homeworks/master/clust_B_part2.txt"
      ],
      "execution_count": 0,
      "outputs": []
    },
    {
      "cell_type": "markdown",
      "metadata": {
        "id": "21D9EANUvnwF",
        "colab_type": "text"
      },
      "source": [
        "Now that we have input data, we can start to do the homework. \n",
        "\n",
        "In homework2, we have two input datas, which called 'clust_B_part1.txt' and 'clust_B_part2.txt'. The 'clust_B_part1.txt' contains the data with word id start with 2 to 9, and the 'clust_B_part2.txt' contains the data with count higher than 100.\n",
        "\n",
        "## Question 1: Please generate a RDD with all the words that appear in clust_B_part1.txt and count how many times the word 'will' appears.\n"
      ]
    },
    {
      "cell_type": "code",
      "metadata": {
        "id": "0ZeJ7WQCgM8g",
        "colab_type": "code",
        "colab": {}
      },
      "source": [
        "#sc.textFile\n",
        "from pyspark import SparkConf, SparkContext\n",
        "sc = SparkContext.getOrCreate()\n",
        "\n",
        "#Question_1:\n",
        "\n",
        "#Fill out here"
      ],
      "execution_count": 0,
      "outputs": []
    },
    {
      "cell_type": "markdown",
      "metadata": {
        "id": "Y3vYyp5dwOm_",
        "colab_type": "text"
      },
      "source": [
        "## Question 2: Please find how many different words in both 'clust_B_part1.txt' and 'clust_B_part2.txt'. \n",
        "### Example input and output:\n",
        "```\n",
        "'clust_B_part1.txt'\n",
        "18932\t15059\tjoe the plumber\t1324836\n",
        "324\t306\ti'm joe the plumber\t1452807\n",
        "17243\t6034\tweb 2 0\t6560\n",
        "\n",
        "'clust_B_part2.txt'\n",
        "105\t103\ta day at the beach\t39104\n",
        "114\t111\tmusic of the plumber\t33003\n",
        "173\t153\thow it's made\t67526\n",
        "\n",
        "output is 2\n",
        "the words are 'the', 'plumber'\n",
        "```"
      ]
    },
    {
      "cell_type": "code",
      "metadata": {
        "id": "Eja1BLiaTThT",
        "colab_type": "code",
        "colab": {}
      },
      "source": [
        "#Question_2\n",
        "\n",
        "#Fill out here\n"
      ],
      "execution_count": 0,
      "outputs": []
    },
    {
      "cell_type": "markdown",
      "metadata": {
        "id": "6FHVHVQjd4P1",
        "colab_type": "text"
      },
      "source": [
        "## Question 3: Please generate a rdd with elements in clust_B_part2.txt but not in clust_B_part1.txt. Then find the maximum number in the first column except the rows have word 'love' in the third column for the new RDD by the Reduce action.\n"
      ]
    },
    {
      "cell_type": "code",
      "metadata": {
        "id": "MJsxix2Xd3-Q",
        "colab_type": "code",
        "colab": {}
      },
      "source": [
        "#Question_3\n",
        "\n",
        "#Fill out here"
      ],
      "execution_count": 0,
      "outputs": []
    },
    {
      "cell_type": "markdown",
      "metadata": {
        "id": "uIy1IL965Ogm",
        "colab_type": "text"
      },
      "source": [
        "## Question 4: Please write your answer in a text cell to determine whether these functions can be used in the Reduce operation or not.\n",
        "\n"
      ]
    },
    {
      "cell_type": "code",
      "metadata": {
        "id": "7OmbLiCQ5ctu",
        "colab_type": "code",
        "colab": {}
      },
      "source": [
        "#Question_4\n",
        "\n",
        "#Function A\n",
        "def functionA(x, y):\n",
        "  if x == y:\n",
        "    return x + y\n",
        "  else:\n",
        "    return x * y\n",
        "\n",
        "#Function B\n",
        "def functionB(x, y):\n",
        "  if str(x) in str(y):\n",
        "    return x\n",
        "  else:\n",
        "    return y\n",
        "\n",
        "#Function C\n",
        "def functionC(x, y):\n",
        "  return x / 2 + y\n",
        "\n",
        "#Function D\n",
        "def functionD(x, y):\n",
        "  return x ** 3 / y\n",
        "\n",
        "#Function E\n",
        "def functionE(x, y):\n",
        "  return (x + y) ** 2\n",
        "\n",
        "#Function F\n",
        "def functionF(x, y):\n",
        "  return 2 * x * y\n",
        "\n",
        "#Function G\n",
        "def functionG(x, y):\n",
        "  return x + (x + y) * 2  \n",
        "\n",
        "#Function H\n",
        "def functionH(x, y):\n",
        "  return x + y + x * y\n",
        "#Fill out here"
      ],
      "execution_count": 0,
      "outputs": []
    }
  ]
}